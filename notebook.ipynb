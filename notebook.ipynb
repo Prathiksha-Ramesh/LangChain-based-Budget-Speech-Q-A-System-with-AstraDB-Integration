{
 "cells": [
  {
   "cell_type": "code",
   "execution_count": 2,
   "metadata": {},
   "outputs": [
    {
     "name": "stderr",
     "output_type": "stream",
     "text": [
      "c:\\Users\\prath\\Downloads\\bootcamp\\Project-63\\venv\\lib\\site-packages\\tqdm\\auto.py:21: TqdmWarning: IProgress not found. Please update jupyter and ipywidgets. See https://ipywidgets.readthedocs.io/en/stable/user_install.html\n",
      "  from .autonotebook import tqdm as notebook_tqdm\n"
     ]
    }
   ],
   "source": [
    "#langchian components for use:\n",
    "\n",
    "from langchain.vectorstores.cassandra import Cassandra\n",
    "from langchain.indexes.vectorstore import VectorStoreIndexWrapper\n",
    "from langchain.llms import OpenAI\n",
    "from langchain.embeddings import OpenAIEmbeddings\n",
    "\n",
    "#support for dataset retrieval with hugging face\n",
    "from datasets import load_dataset\n",
    "\n"
   ]
  },
  {
   "cell_type": "code",
   "execution_count": 3,
   "metadata": {},
   "outputs": [
    {
     "name": "stdout",
     "output_type": "stream",
     "text": [
      "Requirement already satisfied: cassio in c:\\users\\prath\\downloads\\bootcamp\\project-63\\venv\\lib\\site-packages (0.1.8)\n",
      "Requirement already satisfied: cassandra-driver<4.0.0,>=3.28.0 in c:\\users\\prath\\downloads\\bootcamp\\project-63\\venv\\lib\\site-packages (from cassio) (3.29.1)\n",
      "Requirement already satisfied: numpy>=1.0 in c:\\users\\prath\\downloads\\bootcamp\\project-63\\venv\\lib\\site-packages (from cassio) (1.26.4)\n",
      "Requirement already satisfied: requests<3.0.0,>=2.31.0 in c:\\users\\prath\\downloads\\bootcamp\\project-63\\venv\\lib\\site-packages (from cassio) (2.32.3)\n",
      "Requirement already satisfied: geomet<0.3,>=0.1 in c:\\users\\prath\\downloads\\bootcamp\\project-63\\venv\\lib\\site-packages (from cassandra-driver<4.0.0,>=3.28.0->cassio) (0.2.1.post1)\n",
      "Requirement already satisfied: charset-normalizer<4,>=2 in c:\\users\\prath\\downloads\\bootcamp\\project-63\\venv\\lib\\site-packages (from requests<3.0.0,>=2.31.0->cassio) (3.3.2)\n",
      "Requirement already satisfied: idna<4,>=2.5 in c:\\users\\prath\\downloads\\bootcamp\\project-63\\venv\\lib\\site-packages (from requests<3.0.0,>=2.31.0->cassio) (3.8)\n",
      "Requirement already satisfied: urllib3<3,>=1.21.1 in c:\\users\\prath\\downloads\\bootcamp\\project-63\\venv\\lib\\site-packages (from requests<3.0.0,>=2.31.0->cassio) (2.2.2)\n",
      "Requirement already satisfied: certifi>=2017.4.17 in c:\\users\\prath\\downloads\\bootcamp\\project-63\\venv\\lib\\site-packages (from requests<3.0.0,>=2.31.0->cassio) (2024.7.4)\n",
      "Requirement already satisfied: click in c:\\users\\prath\\downloads\\bootcamp\\project-63\\venv\\lib\\site-packages (from geomet<0.3,>=0.1->cassandra-driver<4.0.0,>=3.28.0->cassio) (8.1.7)\n",
      "Requirement already satisfied: six in c:\\users\\prath\\downloads\\bootcamp\\project-63\\venv\\lib\\site-packages (from geomet<0.3,>=0.1->cassandra-driver<4.0.0,>=3.28.0->cassio) (1.16.0)\n",
      "Requirement already satisfied: colorama in c:\\users\\prath\\downloads\\bootcamp\\project-63\\venv\\lib\\site-packages (from click->geomet<0.3,>=0.1->cassandra-driver<4.0.0,>=3.28.0->cassio) (0.4.6)\n"
     ]
    }
   ],
   "source": [
    "\n",
    "!pip install cassio"
   ]
  },
  {
   "cell_type": "code",
   "execution_count": 4,
   "metadata": {},
   "outputs": [],
   "source": [
    "import cassio"
   ]
  },
  {
   "cell_type": "code",
   "execution_count": 5,
   "metadata": {},
   "outputs": [],
   "source": [
    "from PyPDF2 import PdfReader"
   ]
  },
  {
   "cell_type": "code",
   "execution_count": 6,
   "metadata": {},
   "outputs": [],
   "source": [
    "ASTRA_DB_APPLICATION_TOKEN='AstraCS:ZJtQGHJLBkDQeswNzJPWkfQA:17fd287fb87c82d90dfe1462aeffdd0688dbfa3aa226c4400f634fb3d5c29759'\n",
    "ASTRA_DB_ID='0d2c96fc-3705-479a-88b0-dbd9fc29102c'\n",
    "OPENAI_API_KEY='sk-ThTby-QVVkzrVhR6Oh67q_CcNu1jkpd2dUBmXnHPPoT3BlbkFJHqe8DpL5oXR2kespPeFvTYWdy7PI8CxyxE9hgjPDIA'\n"
   ]
  },
  {
   "cell_type": "code",
   "execution_count": 7,
   "metadata": {},
   "outputs": [],
   "source": [
    "#path to pdf\n",
    "pdfreader=PdfReader('Budget_Speech.pdf')"
   ]
  },
  {
   "cell_type": "code",
   "execution_count": null,
   "metadata": {},
   "outputs": [],
   "source": []
  },
  {
   "cell_type": "code",
   "execution_count": 8,
   "metadata": {},
   "outputs": [],
   "source": [
    "from typing_extensions import Concatenate\n",
    "raw_text=''\n",
    "for i,page in enumerate(pdfreader.pages):\n",
    "    content=page.extract_text()\n",
    "    if content:\n",
    "        raw_text+=content"
   ]
  },
  {
   "cell_type": "code",
   "execution_count": 9,
   "metadata": {},
   "outputs": [],
   "source": [
    "cassio.init(token=ASTRA_DB_APPLICATION_TOKEN,database_id=ASTRA_DB_ID)"
   ]
  },
  {
   "cell_type": "code",
   "execution_count": 10,
   "metadata": {},
   "outputs": [
    {
     "name": "stderr",
     "output_type": "stream",
     "text": [
      "C:\\Users\\prath\\AppData\\Local\\Temp\\ipykernel_23536\\3645335011.py:1: LangChainDeprecationWarning: The class `OpenAI` was deprecated in LangChain 0.0.10 and will be removed in 1.0. An updated version of the class exists in the langchain-openai package and should be used instead. To use it run `pip install -U langchain-openai` and import as `from langchain_openai import OpenAI`.\n",
      "  llm=OpenAI(openai_api_key=OPENAI_API_KEY)\n",
      "C:\\Users\\prath\\AppData\\Local\\Temp\\ipykernel_23536\\3645335011.py:2: LangChainDeprecationWarning: The class `OpenAIEmbeddings` was deprecated in LangChain 0.0.9 and will be removed in 1.0. An updated version of the class exists in the langchain-openai package and should be used instead. To use it run `pip install -U langchain-openai` and import as `from langchain_openai import OpenAIEmbeddings`.\n",
      "  embedding=OpenAIEmbeddings(openai_api_key=OPENAI_API_KEY)\n"
     ]
    }
   ],
   "source": [
    "llm=OpenAI(openai_api_key=OPENAI_API_KEY)\n",
    "embedding=OpenAIEmbeddings(openai_api_key=OPENAI_API_KEY)"
   ]
  },
  {
   "cell_type": "code",
   "execution_count": 11,
   "metadata": {},
   "outputs": [],
   "source": [
    "astra_vector_store=Cassandra(\n",
    "    embedding=embedding,\n",
    "    table_name='qa_mini_demo',\n",
    "    session=None,\n",
    "    keyspace=None,\n",
    ")"
   ]
  },
  {
   "cell_type": "code",
   "execution_count": 12,
   "metadata": {},
   "outputs": [],
   "source": [
    "from langchain.text_splitter import CharacterTextSplitter\n",
    "text_splitter=CharacterTextSplitter(\n",
    "    separator='\\n',\n",
    "    chunk_size=800,\n",
    "    length_function=len,\n",
    ")\n",
    "\n",
    "texts=text_splitter.split_text(raw_text)"
   ]
  },
  {
   "cell_type": "code",
   "execution_count": 13,
   "metadata": {},
   "outputs": [
    {
     "data": {
      "text/plain": [
       "['GOVERNMENT OF INDIA\\nBUDGET 2024-2025\\nSPEECH\\nOF\\nNIRMALA SITHARAMAN\\nMINISTER OF FINANCE\\nJuly 23,  2024 \\nCONTENTS  \\n \\nPART – A \\n Page No.  \\nIntroduction 1 \\nGlobal Context  1 \\nInterim Budget  2 \\nBudget Theme  2 \\nBudget Priorities  2 \\n(i) Productivity and resilience in Agriculture   \\n(ii) Employment & Skilling  \\n(iii) Inclusive Human Resource Development and Social Justice   \\n(iv) Manufacturing & Services  \\n(v) Urban Development   \\n(vi) Energy Security  \\n(vii) Infrastructure  \\n(viii) Innovation, Research & Development  \\n(ix) Next Generation Reforms  \\nBudget Estimates 2024- 25 20 \\n \\n \\nPART – B \\nIndirect taxes  22 \\nDirect Taxes   25 \\n Annexure to Part -A 31 \\nAnnexure to Part -B 36 \\n \\n   \\n \\nBudget 2024 -2025  \\n \\nSpeech of  \\nNirmala Sitharaman  \\nMinister of Finance  \\nJuly 23 , 2024',\n",
       " 'PART – B \\nIndirect taxes  22 \\nDirect Taxes   25 \\n Annexure to Part -A 31 \\nAnnexure to Part -B 36 \\n \\n   \\n \\nBudget 2024 -2025  \\n \\nSpeech of  \\nNirmala Sitharaman  \\nMinister of Finance  \\nJuly 23 , 2024  \\nHon’ble Speaker,  \\n I present the Budget for 2024 -25.  \\nIntroduction \\n1. The people of India have reposed their faith in the government led by \\nthe Hon’ble Prime Minister Shri Narendra Modi and re -elected it for a historic \\nthird term under his leadership. We are grateful for their support, faith and \\ntrust in our policies. We are determined to ensure that all Indians, regardless \\nof religion, caste, gender and age, make substantial progress in realising their life goals and aspirations.  \\nGlobal Context  \\n2. The global economy, while performing better than expected, is still in',\n",
       " 'Global Context  \\n2. The global economy, while performing better than expected, is still in \\nthe grip of policy uncertainties. Elevated asset prices, political uncertainties and shipping disruptions continue to pose significant downside risks for \\ngrowth and upside risks to inflation.  \\n3. In this context, India’s economic growth  continues  to be the shining \\nexception and will remain so in the years ahead. India’s inflation continues to be low, stable and moving towards the 4 per cent target. Core inflation (non-\\nfood, non -fuel) currently is 3.1 per cent. Steps are being taken to ensure \\nsuppl ies of perishable goods reach market adequately.   2  \\n \\nInterim Budget  \\n4. As mentioned in the interim budget, we need to focus on 4 major',\n",
       " 'suppl ies of perishable goods reach market adequately.   2  \\n \\nInterim Budget  \\n4. As mentioned in the interim budget, we need to focus on 4 major \\ncastes, namely  ‘Garib’ (Poor), ‘Mahilayen’ (Women), ‘Yuva’ (Youth) and  \\n‘Annadata’ (Farmer). For Annadata, we announced higher Minimum Support \\nPrices a month ago for all major crops, delivering on the promise of at least a \\n50 per cent margin over costs.  Pradhan Mantri Garib Kalyan Anna Yojana was \\nextended for five years, benefitting more than 80 crore people.  \\n5. Administrative actio ns for approval and implementation of various \\nschemes announced in the interim budget are well underway. The required \\nallocations have been made.   \\nBudget Theme  \\n6. Turning attention to the full year and beyond, in this budget, we',\n",
       " 'schemes announced in the interim budget are well underway. The required \\nallocations have been made.   \\nBudget Theme  \\n6. Turning attention to the full year and beyond, in this budget, we \\nparticularly focus on employment, skilling, MSMEs, and the middle class. I am happy to announce the Prime Minister’s package of 5 schemes and initiatives \\nto facilitate employment, skilling and other opportunities for 4.1 crore youth \\nover a 5 -year period with a central outlay of ` 2 lakh crore.  I will speak about \\nthem shortly, while more details may be seen in the annexure.  This year, I have made a provision of ` 1.48 lakh crore for education, employment and \\nskilling.     \\nBudget Priorities  \\n7. The people have given a unique opportunity to  our government to',\n",
       " 'skilling.     \\nBudget Priorities  \\n7. The people have given a unique opportunity to  our government to \\ntake the country on the path of strong development and all -round prosperity. \\nIn the interim budget, we promised to present a detailed roadmap for our \\npursuit of ‘ Viksit Bharat’. In line with the strategy set out in the interim \\nbudget, this budget envisages sustained efforts on the following 9 priorities \\nfor generating ample opportunities for all.   \\n1) Productivity and resilience in Agriculture  \\n2) Employment & Skilling  \\n3) Inclusive Human Resource Development and Social Justice  \\n4) Manufacturing & Services  \\n5) Urban Development    \\n6) Energy Security  \\n7) Infrastructure   3  \\n \\n8) Innovation, Research & Development and  \\n9) Next Generation Reforms',\n",
       " '4) Manufacturing & Services  \\n5) Urban Development    \\n6) Energy Security  \\n7) Infrastructure   3  \\n \\n8) Innovation, Research & Development and  \\n9) Next Generation Reforms  \\n8. Subsequent budgets will build on these, and add more priorities and \\nactions. A more detailed formulation will be carried out as part  of the \\n‘economic policy framework’ about which I will speak later in this speech.   \\n9. This budget details some of the specific actions to be initiated in the \\ncurrent year towards fulfilment of these priorities with potential for \\ntransformative changes.  The  budget also covers some of the previously \\nmade announcements with an intent to strengthen them and step up their implementation for expediting our journey towards the goal of Viksit Bharat.',\n",
       " 'made announcements with an intent to strengthen them and step up their implementation for expediting our journey towards the goal of Viksit Bharat.   \\nPriority 1: Productivity and resilience in Agriculture  \\nTransfor ming agriculture research  \\n10. Our government will undertake a comprehensive review of the \\nagriculture research setup to bring the focus on raising productivity and \\ndeveloping climate resilient varieties.  Funding will be provided in challenge \\nmode, including to the private sector. Domain experts both from the \\ngovernment and outside will oversee the conduct of such research.   \\nRelease of new varieties  \\n11. New 109 high -yielding and climate -resilient varieties of 32 field and \\nhorticulture crops will be released for cu ltivation by farmers.  \\nNatural Farming',\n",
       " 'Release of new varieties  \\n11. New 109 high -yielding and climate -resilient varieties of 32 field and \\nhorticulture crops will be released for cu ltivation by farmers.  \\nNatural Farming  \\n12. In the next two years, 1 crore farmers across the country will be \\ninitiated into natural farming supported by certification and branding. \\nImplementation will be through scientific institutions and willing gram \\npanchay ats. 10,000 need -based bio -input resource centres will be \\nestablished.   \\nMissions for pulses and oilseeds  \\n13. For achieving self -sufficiency in pulses and oilseeds, we will \\nstrengthen their production, storage and marketing. As announced in the \\ninterim budget, a  strategy  is being put in place to achieve ‘atmanirbharta’ for',\n",
       " 'strengthen their production, storage and marketing. As announced in the \\ninterim budget, a  strategy  is being put in place to achieve ‘atmanirbharta’ for \\noil seeds such as mustard, groundnut, ses ame, soybean, and sunflower.    4  \\n \\nVegetable production & Supply Chains  \\n14. Large scale clusters for vegetable production will be developed closer \\nto major consumption centres. We will promote Farmer- Producer \\nOrganizations, cooperatives and start -ups for vegetable  supply chains \\nincluding for collection, storage, and marketing.  \\nDigital Public Infrastructure for Agriculture  \\n15. Buoyed by the success of the pilot project, our government, in \\npartnership with the states, will facilitate the implementation of the Digital',\n",
       " 'Digital Public Infrastructure for Agriculture  \\n15. Buoyed by the success of the pilot project, our government, in \\npartnership with the states, will facilitate the implementation of the Digital \\nPublic Infrastructure  (DPI) in agriculture for coverage of farmers and their \\nlands in 3 years. During this year, digital crop survey for Kharif using the DPI will be taken up in 400 districts. The details of 6 crore farmers and their lands \\nwill be brought into the farmer and land registries. Further, the issuance of \\nJan Samarth based Kisan Credit Cards will be enabled in 5 states.  \\nShrimp Production & Export  \\n16. Financial support for setting up a network of Nucleus Breeding \\nCentres for Shrimp Brood stocks will be pr ovided. Financing for shrimp',\n",
       " 'Shrimp Production & Export  \\n16. Financial support for setting up a network of Nucleus Breeding \\nCentres for Shrimp Brood stocks will be pr ovided. Financing for shrimp \\nfarming, processing and export will be facilitated through NABARD.   \\nNational Cooperation Policy  \\n17. Our government will bring out a National Cooperation Policy for \\nsystematic, orderly and all- round development of the cooperative s ector. \\nFast-tracking growth of rural economy and generation of employment \\nopportunities on a large scale will be the policy goal.  \\n18. This year, I have made a provision of ` 1.52 lakh crore for agriculture \\nand allied sector.     \\nPriority 2: Employment & Skilling  \\nEmployment Linked Incentive  \\n19. Our government will implement following 3 schemes for ‘Employment',\n",
       " 'and allied sector.     \\nPriority 2: Employment & Skilling  \\nEmployment Linked Incentive  \\n19. Our government will implement following 3 schemes for ‘Employment \\nLinked Incentive’, as part of the Prime Minister’s package. These will be based on enrolment in the EPFO, and focus on recognition of first- time \\nemployees, and  support to employees and employers.     \\n  5  \\n \\nScheme A: First Timers  \\n20. This scheme will provide one -month wage to all persons newly \\nentering the workforce in all formal sectors. The direct benefit transfer of \\none-month salary in 3 instalments to first -time employees, as registered in \\nthe EPFO, will be up to ` 15,000. The eligibility limit will be a salary of  \\n` 1 lakh per month. The scheme is expected to benefit 210 lakh youth.',\n",
       " 'the EPFO, will be up to ` 15,000. The eligibility limit will be a salary of  \\n` 1 lakh per month. The scheme is expected to benefit 210 lakh youth.  \\nScheme B: Job Creation in manufacturing  \\n21. This scheme will incentivize additional employment in the \\nmanufacturing sector, linked to the employment of first- time employees. An \\nincentive will be provided at specified scale directly both to the employee \\nand the employer with respect to their EPFO contribution in the first 4 years \\nof employment. The scheme is expected to benefit 30 lakh youth entering \\nemployment, and their employers.  \\nScheme C: Support to employers  \\n22. This employer- focussed scheme will cover additional employment in \\nall sectors. All addi tional employment within a salary of ` 1 lakh per month',\n",
       " 'Scheme C: Support to employers  \\n22. This employer- focussed scheme will cover additional employment in \\nall sectors. All addi tional employment within a salary of ` 1 lakh per month \\nwill be counted. The government will reimburse to employers up to ` 3,000 \\nper month for 2 years towards their EPFO contribution for each additional \\nemployee. The scheme is expected to incentivize addi tional employment of \\n50 lakh persons.    \\nParticipation of women in the workforce  23. We will facilitate higher participation of women in the workforce \\nthrough setting up of working women hostels in collaboration with industry, \\nand establishing creches. In addition, the partnership will seek to organize \\nwomen- specific skilling programmes, and promotion of market access for \\nwomen SHG enterprises.',\n",
       " 'and establishing creches. In addition, the partnership will seek to organize \\nwomen- specific skilling programmes, and promotion of market access for \\nwomen SHG enterprises.  \\nSkilling programme  \\n24. I am happy to announce a new centrally sponsored scheme, as the 4\\nth \\nscheme under the Prime Minister’s package, for skilling in collaboration with \\nstate governments and Industry. 20 lakh youth will be skilled over a 5 -year \\nperiod. 1,000 Industrial Training Institutes will be upgraded in hub and spoke \\narrangements with outcome orientation.  Course co ntent and design will be  6  \\n \\naligned to the skill needs of industry, and new courses will be introduced for \\nemerging needs.  \\nSkilling Loans  \\n25. The Model Skill Loan Scheme will be revised to facilitate loans up to',\n",
       " 'aligned to the skill needs of industry, and new courses will be introduced for \\nemerging needs.  \\nSkilling Loans  \\n25. The Model Skill Loan Scheme will be revised to facilitate loans up to  \\n` 7.5 lakh with a guarantee from a government promoted Fund. This measure \\nis expected to help 25,000 students every year.  \\nEducation Loans  \\n26. For helping our youth who have not been eligible for any benefit \\nunder government schemes and policies, I am happy to announce a financial support for loans upto ` 10 lakh for higher education in domestic institutions. \\nE-vouchers for this purpose will be given directly to 1 lakh students every \\nyear for annual interest subvention of 3 per cent of the loan amount.   \\nPriority 3: Inclusive Human Resource Development and Social Justice',\n",
       " 'year for annual interest subvention of 3 per cent of the loan amount.   \\nPriority 3: Inclusive Human Resource Development and Social Justice  \\nSaturation approach  \\n27. Our government is committed to all- round, all- pervasive and all-\\ninclusive development of people, particularly, farmers, youth, women and \\npoor. For achieving social justice comprehensively, the saturation approach \\nof covering  all eligible people through various programmes including those \\nfor education and health will be adopted to empower them by improving their capabilities.  \\n28. Implementation of schemes meant for supporting economic activities \\nby craftsmen, artisans, self -help groups, scheduled caste, schedule tribe and \\nwomen entrepreneurs, and street vendors, such as PM Vishwakarma, PM',\n",
       " 'by craftsmen, artisans, self -help groups, scheduled caste, schedule tribe and \\nwomen entrepreneurs, and street vendors, such as PM Vishwakarma, PM \\nSVANidhi,  National Livelihood Missions, and Stand- Up India will be stepped \\nup. \\nPurvodaya  \\n29. The states in the Eastern part of the country are rich in endowments \\nand have strong cultural traditions. We will formulate a plan, Purvodaya, for \\nthe all -round development of the eastern region of the country covering \\nBihar, Jharkhand, West Bengal, Odisha and Andhra Pradesh.  This will cover  7  \\n \\nhuman resource development, infrastructure, and generation of economic \\nopportunities to make the region an engine to attain Viksit Bharat.  \\n30. On the Amritsar Kolkata Industrial Corridor, we will support',\n",
       " 'opportunities to make the region an engine to attain Viksit Bharat.  \\n30. On the Amritsar Kolkata Industrial Corridor, we will support \\ndevelopment of an industrial node at Gaya. This corridor will catalyze \\nindustrial development of the eastern region. The industrial node at Gaya will \\nalso be a good model for developing our ancient centres of cultural \\nimportance into future centres of modern economy. This model shall \\nshowcase “Vikas bhi Virasat bhi” in our growth trajectory.  \\n31. We will also support development of road connectivity projects, \\nnamely (1) Patna- Purnea Expressway, (2) Buxar -Bhagalpur Expressway, (3) \\nBodhgaya, Rajgir, Vaishali and Darbhanga spurs, and (4) additional 2 -lane \\nbridge over river G anga at Buxar at a total cost of ` 26,000 crore . Power',\n",
       " 'Bodhgaya, Rajgir, Vaishali and Darbhanga spurs, and (4) additional 2 -lane \\nbridge over river G anga at Buxar at a total cost of ` 26,000 crore . Power \\nprojects, including setting up of a new 2400 MW power plant at Pirpainti, will \\nbe taken up at a cost of ` 21,400 crore .  New airports, medical colleges and \\nsports infrastructure in Bihar will be constr ucted.   \\n32. An additional allocation to support capital investments will be \\nprovided. The requests of Bihar Government for external assistance from multilateral development banks will be expedited.  \\nAndhra Pradesh Reorganization Act  \\n33. Our government has made co ncerted efforts to fulfil the',\n",
       " 'Andhra Pradesh Reorganization Act  \\n33. Our government has made co ncerted efforts to fulfil the \\ncommitments in the Andhra Pradesh Reorganization Act.  Recognizing the state’s need for a capital, we will facilitate special financial support through \\nmultilateral development agencies. In the current financial year ` 15,000 \\ncrore  will be arranged, with additional amounts in future years.  \\n34. Our government is fully committed to financing and early completion \\nof the Polavaram Irrigation Project, which is the lifeline for Andhra Pradesh and its farmers. This will facilitate our co untry’s food security as well.   \\n35. Under the Act, for promoting industrial development, funds will be \\nprovided for essential infrastructure such as water, power, railways and',\n",
       " '35. Under the Act, for promoting industrial development, funds will be \\nprovided for essential infrastructure such as water, power, railways and \\nroads in Kopparthy node on the Vishakhapatnam -Chennai Industrial Corridor \\nand Orvak al node on Hyderabad- Bengaluru Industrial Corridor.  An additional \\nallocation will be provided this year towards capital investment for economic growth.    8  \\n \\n36. Grants for backward regions of Rayalaseema, Prakasam and North \\nCoastal Andhra, as stated in the Act, will also be provided.  \\nPM Awas Yojana  \\n37. Three crore additional houses under the PM Awas Yojana in rural and \\nurban areas in the country have been announced, for which the necessary \\nallocations are being made.   \\nWomen -led development',\n",
       " 'urban areas in the country have been announced, for which the necessary \\nallocations are being made.   \\nWomen -led development  \\n38. For promoting women -led development, the budget carries an \\nallocation of more than ` 3 lakh crore for schemes benefitting women and \\ngirls. This signals our government’s commitment for enhancing women’s role \\nin economic development.   \\nPradhan Mantri Janjati ya Unnat Gram Abhiyan  \\n39. For improving the socio -economic condition of tribal communities, we \\nwill launch the Pradhan Mantri Janjatiya Unnat Gram Abhiyan by adopting saturation coverage for tribal families in tribal- majority villages and \\naspirational distric ts. This will cover 63,000 villages benefitting 5 crore tribal \\npeople.  \\nBank branches in North -Eastern Region',\n",
       " 'aspirational distric ts. This will cover 63,000 villages benefitting 5 crore tribal \\npeople.  \\nBank branches in North -Eastern Region  \\n40. More than 100 branches of India Post Payment Bank will be set up in \\nthe North East region to expand the banking services.  \\n41. This year, I have made a provision of ` 2.66 lakh crore for rural \\ndevelopment including rural infrastructure.     \\nPriority 4: Manufacturing & Services  \\nSupport for promotion of MSMEs  \\n42.  This budget provides special attention to MSMEs and manufacturing, \\nparticularly labour- intensive  manufacturing. We have formulated a package \\ncovering financing, regulatory changes and technology support for MSMEs to \\nhelp them grow and also compete globally, as mentioned in the interim',\n",
       " 'covering financing, regulatory changes and technology support for MSMEs to \\nhelp them grow and also compete globally, as mentioned in the interim \\nbudget. I am happy to announce the following specific measures.   \\n  9  \\n \\nCredit Guarantee Scheme for MSMEs in the Manufacturing Sector  \\n43. For facilitating term loans to MSMEs for purchase of machinery and \\nequipment without collateral or third- party guarantee, a credit guarantee \\nscheme will be introduced. The scheme will operate o n pooling of credit risks \\nof such MSMEs. A separately constituted self -financing guarantee fund will \\nprovide, to each applicant, guarantee cover up to ` 100 crore, while the loan \\namount may be larger. The borrower will have to provide an upfront',\n",
       " 'provide, to each applicant, guarantee cover up to ` 100 crore, while the loan \\namount may be larger. The borrower will have to provide an upfront \\nguarantee fee and an annual guarantee fee on the reducing loan balance.  \\nNew assessment model for MSME credit  \\n44. Public sector banks will build their in -house capabi lity to assess \\nMSMEs for credit, instead of relying on external assessment. They will also \\ntake a lead in developing or getting developed a new credit assessment \\nmodel, based on the scoring of digital footprints of MSMEs in the economy. \\nThis is expected to  be a significant improvement over the traditional \\nassessment of credit eligibility based only on asset or turnover criteria. That will also cover MSMEs without a formal accounting system.',\n",
       " 'assessment of credit eligibility based only on asset or turnover criteria. That will also cover MSMEs without a formal accounting system.  \\nCredit Support to MSMEs during Stress Period \\n45. I am happy to announce  a new mechanism for facilitating \\ncontinuation of bank credit to MSMEs during their stress period. While being \\nin the ‘special mention account’ (SMA) stage for reasons beyond their \\ncontrol, MSMEs need credit to continue their business and to avoid getting \\ninto the NPA stage. Credit availability will be supported through a guarantee \\nfrom a government promoted fund.   \\nMudra Loans  \\n46. The limit of Mudra loans will be enhanced to ₹ 20 lakh from the \\ncurrent ₹ 10 lakh for those entrepreneurs who have availed and successfully \\nrepaid previous loans under the ‘Tarun’ category.',\n",
       " '46. The limit of Mudra loans will be enhanced to ₹ 20 lakh from the \\ncurrent ₹ 10 lakh for those entrepreneurs who have availed and successfully \\nrepaid previous loans under the ‘Tarun’ category.  \\nEnhanced scope for mandatory onboarding in TReDS  \\n47. For facilitating MSMEs to unlock their working capital by converting \\ntheir trade receivables into cash, I propose to reduce the turnover thresho ld \\nof buyers for mandatory onboarding on the TReDS platform from ` 500 crore \\nto ` 250 crore. This measure will bring 22 more CPSEs and 7000 more  10  \\n \\ncompanies onto the platform. Medium enterprises will also be included in \\nthe scope of the suppliers.  \\nSIDBI bran ches in MSME clusters  \\n48. SIDBI will open new branches to expand its reach to serve all major',\n",
       " 'the scope of the suppliers.  \\nSIDBI bran ches in MSME clusters  \\n48. SIDBI will open new branches to expand its reach to serve all major \\nMSME clusters within 3 years, and provide direct credit to them. With the opening of 24 such branches this year, the service coverage will expand to \\n168 out of 242 ma jor clusters.   \\nMSME Units for Food Irradiation, Quality & Safety Testing  \\n49. Financial support for setting up of 50 multi -product food irradiation \\nunits in the MSME sector will be provided.  Setting up of 100 food quality and \\nsafety testing labs with NABL ac creditation will be facilitated.  \\nE-Commerce Export Hubs  \\n50. To enable MSMEs and traditional artisans to sell their products in \\ninternational markets, E -Commerce Export Hubs will be set up in public -',\n",
       " 'E-Commerce Export Hubs  \\n50. To enable MSMEs and traditional artisans to sell their products in \\ninternational markets, E -Commerce Export Hubs will be set up in public -\\nprivate -partnership (PPP) mode . These hubs, under a seamless  regulatory \\nand logistic framework, will facilitate trade and export related services under one roof.  \\nMeasures for promotion of Manufacturing & Services  \\nInternship in Top Companies  \\n51. As the 5\\nth scheme under the Prime Minister’s package, our \\ngovernment will  launch a comprehensive scheme for providing internship \\nopportunities in 500 top companies to 1 crore youth in 5 years. They will gain \\nexposure for 12 months to real -life business environment, varied professions \\nand employment opportunities. An internship allowance of ` 5,000 per',\n",
       " 'exposure for 12 months to real -life business environment, varied professions \\nand employment opportunities. An internship allowance of ` 5,000 per \\nmonth along with a one -time assistance of ` 6,000 will be provided. \\nCompanies will be expected to bear the training cost and 10 per cent of the \\ninternship cost from their CSR funds.     \\nIndustrial Parks  \\n52. Our government will facilitate development of investment- ready \\n“plug and play” industrial parks with complete infrastructure in or near 100  11  \\n \\ncities, in partnership with the states and private sector, by better using town \\nplanning schemes.   \\n53. Twelve industrial parks under the National I ndustrial Corridor \\nDevelopment Programme also will be sanctioned.  \\nRental Housing',\n",
       " 'planning schemes.   \\n53. Twelve industrial parks under the National I ndustrial Corridor \\nDevelopment Programme also will be sanctioned.  \\nRental Housing  \\n54. Rental housing with dormitory type accommodation for industrial \\nworkers will be facilitated in PPP mode with VGF support and commitment from anchor industries.  \\nShipping indus try  \\n55.  Ownership, leasing and flagging reforms will be implemented to \\nimprove the share of the Indian shipping industry and generate more employment.   \\nCritical Mineral Mission  \\n56. We will set up a Critical Mineral Mission for domestic production, \\nrecycling of critical minerals, and overseas acquisition of critical mineral \\nassets. Its mandate will include technology development, skilled workforce,',\n",
       " 'recycling of critical minerals, and overseas acquisition of critical mineral \\nassets. Its mandate will include technology development, skilled workforce, \\nextended producer responsibility framework, and a suitable financing \\nmechanism.  \\nOffshore mining of minerals  \\n57. Our gove rnment will launch the auction of the first tranche of \\noffshore blocks for mining, building on the exploration already carried out.   \\nDigital Public Infrastructure Applications  \\n58. Turning to the services sector, I propose development of DPI \\napplications at po pulation scale for productivity gains, business \\nopportunities, and innovation by the private sector. These are planned in the \\nareas of credit, e -commerce, education, health, law and justice, logistics,',\n",
       " 'opportunities, and innovation by the private sector. These are planned in the \\nareas of credit, e -commerce, education, health, law and justice, logistics, \\nMSME, services delivery, and  urban governance.  \\nIntegr ated Technology Platform for IBC eco -system  \\n59. An Integrated Technology Platform will be set up for improving the \\noutcomes under the Insolvency and Bankruptcy Code (IBC) for achieving  12  \\n \\nconsistency, transparency, timely processing and better oversight for all \\nstakeholders.  \\nVoluntary closure of LLPs  \\n60. The services of the Centre for Processing Accelerated Corporate Exit \\n(C-PACE) will be extended for voluntary closure of LLPs to reduce the closure \\ntime.  \\nNational Company Law Tribunals  \\n61. The IBC has resolved more than 1,000 companies, resulting in direct',\n",
       " '(C-PACE) will be extended for voluntary closure of LLPs to reduce the closure \\ntime.  \\nNational Company Law Tribunals  \\n61. The IBC has resolved more than 1,000 companies, resulting in direct \\nrecovery of over ` 3.3 lakh crore to creditors. In addition,  28,000 cases \\ninvolving over ` 10 lakh crore have been disposed of, even prior to \\nadmission.  \\n62. Appropriate changes to the IBC, reforms and strengthening of the \\ntribunal and appellate tribunals will be initiated to speed up insolvency resolution. Additional tribunals will be established. Out of those, some will be \\nnotified to decide cases exclusively under the Companies Act.   \\nDebt Recovery  \\n63. Steps for reforming and strengthening debt recovery tribunals will be',\n",
       " 'notified to decide cases exclusively under the Companies Act.   \\nDebt Recovery  \\n63. Steps for reforming and strengthening debt recovery tribunals will be \\ntaken. Additional tribunals will be established to speed up recovery.  \\nPriority 5: Urban Development   \\nCities as Growth Hubs  \\n64. Working with  states , our government will facilitate development of \\n‘Cities as Growth Hubs’. This will be achieved through economic and transit planning, and orderly development of peri -urban areas utilising town \\nplanning schemes.  \\nCreative redevelopment of cities  \\n65. For creativ e brownfield redevelopment of existing cities with a \\ntransformative impact, our government will formulate a framework for \\nenabling policies, market -based mechanisms and regulation.  \\n \\n  13',\n",
       " 'transformative impact, our government will formulate a framework for \\nenabling policies, market -based mechanisms and regulation.  \\n \\n  13  \\n \\nTransit Oriented Development  \\n66. Transit Oriented Development plans for 14 large cities with a \\npopulation above 30 lakh will be formulated, along with an implementation \\nand financing strategy.   \\nUrban Housing  \\n67. Under the PM Awas Yojana Urban 2.0, housing  needs of 1 crore urban \\npoor and mid dle-class families  will be addressed with an investment of ₹ 10 \\nlakh crore. This will include the central assistance of  ₹ 2.2 lakh crore \\nin the next 5 years.  A provision of interest subsidy to facilitate loans at \\naffordable rates is also envisaged.  \\n68. In addition, enabling policies and regulations for efficient and',\n",
       " 'in the next 5 years.  A provision of interest subsidy to facilitate loans at \\naffordable rates is also envisaged.  \\n68. In addition, enabling policies and regulations for efficient and \\ntransparent rental housing markets with enhanced availability will also be put \\nin place.  \\nWater Supply and Sanitation  \\n69. In partnership with the State Governments and Multilateral \\nDevelopment Banks we will promote water supply, sewage treatment and \\nsolid waste management projects and services for 100 large cities through \\nbankable projects. These projects will also envisage use of treated water for \\nirrigation and filling up of tanks in nearby areas.    \\nStreet Markets  \\n70. Building on the success of PM SVANidhi Scheme in transforming the',\n",
       " 'irrigation and filling up of tanks in nearby areas.    \\nStreet Markets  \\n70. Building on the success of PM SVANidhi Scheme in transforming the \\nlives of street vendors, our Government envisions a scheme to support each \\nyear, over the next five years, the development of 100 weekly ‘haats’ or street food hubs in select cities.  \\nStamp Duty  \\n71. We will encourage states which continue to charge high stamp duty to \\nmoderate the rates for all, and also consider further lowering duties for properties purchased by women. This reform will be made an essential \\ncomponent of urban deve lopment schemes.   14  \\n \\nPriority 6: Energy Security  \\nEnergy Transition  \\n72. In the interim budget, I had announced our strategy to sustain high',\n",
       " 'component of urban deve lopment schemes.   14  \\n \\nPriority 6: Energy Security  \\nEnergy Transition  \\n72. In the interim budget, I had announced our strategy to sustain high \\nand more resource -efficient economic growth, along with energy security in \\nterms of availability, accessibility and affordab ility.  We will bring out a policy \\ndocument on appropriate energy transition pathways that balances the \\nimperatives of employment, growth and environmental sustainability.   \\nPM Surya Ghar Muft Bijli Yojana  \\n73. In line with the announcement in the interim budget, PM Surya Ghar \\nMuft Bijli Yojana has been launched to install rooftop solar plants to enable 1 \\ncrore households obtain free electricity up to 300 units every month. The',\n",
       " 'Muft Bijli Yojana has been launched to install rooftop solar plants to enable 1 \\ncrore households obtain free electricity up to 300 units every month. The \\nscheme has generated remarkable res ponse with more than 1.28 crore \\nregistrations and 14 lakh applications, and we will further encourage it.   \\nPumped Storage Policy  \\n74. A policy for promoting pumped storage projects will be brought out \\nfor electricity storage and facilitating smooth integration  of the growing \\nshare of renewable energy with its variable & intermittent nature in the overall energy mix.  \\nResearch and development of small and modular nuclear reactors  \\n75. Nuclear energy is expected to form a very significant part of the',\n",
       " 'Research and development of small and modular nuclear reactors  \\n75. Nuclear energy is expected to form a very significant part of the \\nenergy mix for Viksit Bharat. Towards that pursuit, our government will partner with the private sector for (1) setting up Bharat Small Reactors, (2) \\nresearch & development of Bharat Small Modular Reactor, and (3) research & \\ndevelopment of newer technologies for nuclear energy. The R&D funding  \\nannounced in the interim budget will be made available for this sector.   \\nAdvanced Ultra Super Critical Thermal Power Plants  \\n76. The development of indigenous technology for Advanced Ultra Super \\nCritical (AUSC) thermal power plants with  much higher efficiency has been \\ncompleted. A joint venture between NTPC and BHEL will set up a full scale',\n",
       " 'Critical (AUSC) thermal power plants with  much higher efficiency has been \\ncompleted. A joint venture between NTPC and BHEL will set up a full scale \\n800 MW commercial plant using AUSC technology. The government will \\nprovide the required fiscal support. Moving forward, development of \\nindigenous capacity for the production of high- grade steel and other  15  \\n \\nadvanced metallurgy materials for these plants will result in strong spin -off \\nbenefits for the economy.  \\nRoadmap for ‘hard to abate’ industries  \\n77. A roadmap for moving the ‘hard to abate’ industries from ‘energy \\nefficiency’ targets to ‘emission targets’ will be formulated. Appropriate \\nregulations for transition of these industries from the current ‘Perform,',\n",
       " 'efficiency’ targets to ‘emission targets’ will be formulated. Appropriate \\nregulations for transition of these industries from the current ‘Perform, \\nAchieve and Trade’ mode to ‘Indian Carbon Market’ mode will be put in \\nplace.    \\nSupport to traditional micro and small industries  \\n78. An investment- grade energy audit of traditional micro and small \\nindustries in 60 clusters, including brass and ceramic, will be facilitated. Financial support will be provided for shifting them to cleaner forms of \\nenergy and implementation of energy efficiency measures. The scheme will \\nbe replicated in another 100 clusters in the next phase.  \\nPriority 7: Infrastructure  \\nInfrastructure investment by Central Government  \\n79. Significant investment the Central Government has made over the years',\n",
       " 'Priority 7: Infrastructure  \\nInfrastructure investment by Central Government  \\n79. Significant investment the Central Government has made over the years \\nin building and improving infrastructure has had a strong multiplier effect on the \\neconomy. We will endeavour to maintain strong fiscal support for infrastructure over the next 5 years, in conjunction with imperatives of other priorities and \\nfiscal consolidation. This year, I have provided  ` 11,11,111 crore for capital \\nexpenditure . This would be 3.4 per cent of our GDP . \\nInfrastructure investment by state governments  \\n80. We will encourage states to provide support of similar scale for \\ninfrastructure, subject to their development priorities. A provision of `  1.5',\n",
       " 'Infrastructure investment by state governments  \\n80. We will encourage states to provide support of similar scale for \\ninfrastructure, subject to their development priorities. A provision of `  1.5 \\nlakh crore for long -term interest free loans has been made this year also to \\nsupport the states in their resource  allocation.  \\nPrivate investment in infrastructure  \\n81.  Investment in infrastructure by  private sector will be promoted \\nthrough viability gap funding and enabling policies and regulations. A market-based financing framework will be brought out.   16  \\n \\nPradhan Mantr i Gram Sadak Yojana (PMGSY)  \\n82. Phase IV of PMGSY will be launched to provide all -weather \\nconnectivity to 25,000 rural habitations which have become eligible in view \\nof their population increase.',\n",
       " '82. Phase IV of PMGSY will be launched to provide all -weather \\nconnectivity to 25,000 rural habitations which have become eligible in view \\nof their population increase.  \\nIrrigation and Flood Mitigation  \\n83. Bihar has frequently suffered from floods, many of them originating \\noutside the country.  Plans to build flood control structures in Nepal are yet \\nto progress. Our government, through the Accelerated Irrigation Benefit \\nProgramme and other sources, will provide financial support for pro jects with \\nestimated cost of ` 11,500 crore such as the Kosi -Mechi intra -state link and \\n20 other ongoing and new schemes including barrages, river pollution \\nabatement and irrigation projects.  In addition, survey and investigation of',\n",
       " '20 other ongoing and new schemes including barrages, river pollution \\nabatement and irrigation projects.  In addition, survey and investigation of \\nKosi related flood mit igation and irrigation projects will be undertaken.   \\n84. Assam grapples with floods every year by the Brahmaputra River and \\nits tributaries, originating outside India.  We will provide assistance to Assam \\nfor flood management and related projects.  \\n85. Himachal Pradesh suffered extensive losses due to floods last year.  \\nOur government will provide assistance to the state for reconstruction and \\nrehabilitation through multilateral development assistance.  \\n86. Uttarakhand too suffered losses due to cloud bursts and massiv e \\nlandslides. We will provide assistance to the state.',\n",
       " 'rehabilitation through multilateral development assistance.  \\n86. Uttarakhand too suffered losses due to cloud bursts and massiv e \\nlandslides. We will provide assistance to the state.  \\n87. Recently Sikkim witnessed devastating flash floods and landslides that \\nwreaked havoc across the state.  Our Government will provide assistance to \\nthe state.  \\nTourism  \\n88. Tourism has always been a part of our civilization. Our efforts in \\npositioning India as a global tourist destination will also create jobs, stimulate \\ninvestments and unlock economic opportunities for other sectors. In addition \\nto the measures outlined in the interim budget, I propose the following  \\nmeasures.  \\n89. Vishnupad Temple at Gaya and Mahabodhi Temple at Bodh Gaya in']"
      ]
     },
     "execution_count": 13,
     "metadata": {},
     "output_type": "execute_result"
    }
   ],
   "source": [
    "texts[:50]"
   ]
  },
  {
   "cell_type": "code",
   "execution_count": 14,
   "metadata": {},
   "outputs": [
    {
     "name": "stdout",
     "output_type": "stream",
     "text": [
      "inserted 50 headlines.\n"
     ]
    }
   ],
   "source": [
    "astra_vector_store.add_texts(texts[:50])\n",
    "print('inserted %i headlines.'%len(texts[:50]))\n",
    "astra_vector_index=VectorStoreIndexWrapper(vectorstore=astra_vector_store)"
   ]
  },
  {
   "cell_type": "code",
   "execution_count": 21,
   "metadata": {},
   "outputs": [
    {
     "name": "stdout",
     "output_type": "stream",
     "text": [
      "\n",
      "Question:\"how much is the agriculture target will be increased and what the focus will be'\n",
      "Answer:'I do not know the specific target for agriculture or what the focus will be. The context provided does not mention any specific numbers or targets.'\n",
      "\n",
      "First Documents by relevance\n",
      " [0.9250] \"made announcements with an intent to strengthen them and step up their implementatio...\"\n",
      " [0.9191] \"Release of new varieties  \n",
      "11. New 109 high -yielding and climate -resilient varieti...\"\n",
      " [0.9109] \"strengthen their production, storage and marketing. As announced in the \n",
      "interim bud...\"\n",
      " [0.9078] \"Digital Public Infrastructure for Agriculture  \n",
      "15. Buoyed by the success of the pil...\"\n"
     ]
    }
   ],
   "source": [
    "first_question=True\n",
    "while True:\n",
    "    if first_question:\n",
    "        query_text=input(\"\\nEnter your quesstion(or type 'quit' or exit:)\").strip()\n",
    "    else:\n",
    "        query_text=input(\"\\n what is your next question(or type 'quit' or exit:)\").strip()\n",
    "\n",
    "    if query_text.lower() =='quit':\n",
    "        break\n",
    "    if query_text==\"\":\n",
    "        continue\n",
    "    first_question=False\n",
    "    print('\\nQuestion:\\\"%s\\''%query_text)\n",
    "    answer=astra_vector_index.query(query_text,llm=llm).strip()\n",
    "    print('Answer:\\'%s\\'\\n' %answer)\n",
    "\n",
    "    print('First Documents by relevance')\n",
    "    for doc,score in astra_vector_store.similarity_search_with_score(query_text,k=4):\n",
    "        print(\" [%0.4f] \\\"%s...\\\"\" %(score,doc.page_content[:84]))\n",
    "\n"
   ]
  },
  {
   "cell_type": "code",
   "execution_count": null,
   "metadata": {},
   "outputs": [],
   "source": []
  }
 ],
 "metadata": {
  "kernelspec": {
   "display_name": "Python 3",
   "language": "python",
   "name": "python3"
  },
  "language_info": {
   "codemirror_mode": {
    "name": "ipython",
    "version": 3
   },
   "file_extension": ".py",
   "mimetype": "text/x-python",
   "name": "python",
   "nbconvert_exporter": "python",
   "pygments_lexer": "ipython3",
   "version": "3.9.0"
  }
 },
 "nbformat": 4,
 "nbformat_minor": 2
}
